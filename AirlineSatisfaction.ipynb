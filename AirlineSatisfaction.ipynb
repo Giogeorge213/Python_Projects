{
  "cells": [
    {
      "cell_type": "markdown",
      "metadata": {
        "id": "view-in-github",
        "colab_type": "text"
      },
      "source": [
        "<a href=\"https://colab.research.google.com/github/Giogeorge213/Python_Projects/blob/main/AirlineSatisfaction.ipynb\" target=\"_parent\"><img src=\"https://colab.research.google.com/assets/colab-badge.svg\" alt=\"Open In Colab\"/></a>"
      ]
    },
    {
      "cell_type": "code",
      "source": [
        "import pandas as pd\n",
        "import matplotlib as plt\n",
        "\n",
        "from sklearn.linear_model import LogisticRegression\n",
        "from sklearn.model_selection import train_test_split\n",
        "from sklearn.metrics import accuracy_score\n",
        "from sklearn.linear_model import LinearRegression\n",
        "from sklearn.metrics import mean_squared_error, r2_score\n",
        "\n",
        "import statsmodels.api as sm"
      ],
      "execution_count": null,
      "outputs": [],
      "metadata": {
        "datalore": {
          "node_id": "BvInmT5nDvKAEBCjPO7O5F",
          "type": "CODE",
          "hide_input_from_viewers": true,
          "hide_output_from_viewers": true
        },
        "id": "NFVN-Wh52kpQ"
      }
    },
    {
      "cell_type": "code",
      "source": [
        "df1 = pd.read_csv('test.csv')\n",
        "df2= pd.read_csv('train.csv')"
      ],
      "execution_count": null,
      "outputs": [],
      "metadata": {
        "datalore": {
          "node_id": "OjVE1cTDuWVsFxCKB7oHEG",
          "type": "CODE",
          "hide_input_from_viewers": true,
          "hide_output_from_viewers": true
        },
        "id": "gsgiDf2M2kpS"
      }
    },
    {
      "cell_type": "code",
      "source": [
        "df = pd.concat([df1,df2], ignore_index= True)"
      ],
      "execution_count": null,
      "outputs": [],
      "metadata": {
        "datalore": {
          "node_id": "yCFsHTFz3P3eUiRJFAHxHc",
          "type": "CODE",
          "hide_input_from_viewers": true,
          "hide_output_from_viewers": true
        },
        "id": "nxsEzEx32kpS"
      }
    },
    {
      "cell_type": "markdown",
      "source": [
        "### Handle NANs"
      ],
      "metadata": {
        "datalore": {
          "node_id": "3Ji1yN1p0yGFJONnvxbZma",
          "type": "MD",
          "hide_input_from_viewers": true,
          "hide_output_from_viewers": true
        },
        "id": "YDvAWjbX2kpS"
      }
    },
    {
      "cell_type": "code",
      "source": [
        "nan_counts = df.isna().sum()\n",
        "print(nan_counts)"
      ],
      "execution_count": null,
      "outputs": [
        {
          "output_type": "stream",
          "name": "stdout",
          "text": [
            "Unnamed: 0                             0\n",
            "id                                     0\n",
            "Gender                                 0\n",
            "Customer Type                          0\n",
            "Age                                    0\n",
            "Type of Travel                         0\n",
            "Class                                  0\n",
            "Flight Distance                        0\n",
            "Inflight wifi service                  0\n",
            "Departure/Arrival time convenient      0\n",
            "Ease of Online booking                 0\n",
            "Gate location                          0\n",
            "Food and drink                         0\n",
            "Online boarding                        0\n",
            "Seat comfort                           0\n",
            "Inflight entertainment                 0\n",
            "On-board service                       0\n",
            "Leg room service                       0\n",
            "Baggage handling                       0\n",
            "Checkin service                        0\n",
            "Inflight service                       0\n",
            "Cleanliness                            0\n",
            "Departure Delay in Minutes             0\n",
            "Arrival Delay in Minutes             393\n",
            "satisfaction                           0\n",
            "dtype: int64\n"
          ]
        }
      ],
      "metadata": {
        "datalore": {
          "node_id": "NRH56eIK13GAU59A7u0MWi",
          "type": "CODE",
          "hide_input_from_viewers": true,
          "hide_output_from_viewers": true
        },
        "id": "QuH2D2L82kpT",
        "outputId": "daa0275d-59e2-4110-9028-ed8881e5e368",
        "colab": {
          "base_uri": "https://localhost:8080/"
        }
      }
    },
    {
      "cell_type": "markdown",
      "source": [
        "#### Arrival Delay in Minutes NANs correspond to no values entered. Drop the rows"
      ],
      "metadata": {
        "datalore": {
          "node_id": "5Chy4lwEcOmm4tYVwj1ip0",
          "type": "MD",
          "hide_input_from_viewers": true,
          "hide_output_from_viewers": true
        },
        "id": "mF150yl52kpU"
      }
    },
    {
      "cell_type": "code",
      "source": [
        "naResult = df[df['Arrival Delay in Minutes'].isna()]\n",
        "print(naResult)\n",
        "df.dropna(inplace = True)"
      ],
      "execution_count": null,
      "outputs": [
        {
          "output_type": "stream",
          "name": "stdout",
          "text": [
            "        Unnamed: 0      id  Gender      Customer Type  Age   Type of Travel  \\\n",
            "516            516  107365  Female     Loyal Customer   21  Personal Travel   \n",
            "656            656  108648    Male     Loyal Customer    9  Personal Travel   \n",
            "1071          1071   16797    Male  disloyal Customer   25  Business travel   \n",
            "1224          1224   30090    Male     Loyal Customer    7  Personal Travel   \n",
            "1589          1589   41924  Female     Loyal Customer   58  Business travel   \n",
            "...            ...     ...     ...                ...  ...              ...   \n",
            "128043      102067   36729    Male     Loyal Customer   49  Personal Travel   \n",
            "128360      102384   71241    Male     Loyal Customer   58  Business travel   \n",
            "128528      102552   27684  Female  disloyal Customer   29  Business travel   \n",
            "128936      102960   36787    Male     Loyal Customer   58  Business travel   \n",
            "129516      103540   45022  Female     Loyal Customer   33  Personal Travel   \n",
            "\n",
            "           Class  Flight Distance  Inflight wifi service  \\\n",
            "516          Eco              632                      1   \n",
            "656          Eco              762                      2   \n",
            "1071         Eco             1017                      3   \n",
            "1224         Eco              399                      4   \n",
            "1589         Eco              129                      5   \n",
            "...          ...              ...                    ...   \n",
            "128043  Eco Plus             1249                      2   \n",
            "128360       Eco              733                      3   \n",
            "128528       Eco             1107                      2   \n",
            "128936       Eco             1088                      4   \n",
            "129516       Eco              359                      4   \n",
            "\n",
            "        Departure/Arrival time convenient  ...  Inflight entertainment  \\\n",
            "516                                     5  ...                       2   \n",
            "656                                     5  ...                       4   \n",
            "1071                                    4  ...                       5   \n",
            "1224                                    5  ...                       4   \n",
            "1589                                    3  ...                       5   \n",
            "...                                   ...  ...                     ...   \n",
            "128043                                  5  ...                       3   \n",
            "128360                                  3  ...                       3   \n",
            "128528                                  1  ...                       5   \n",
            "128936                                  4  ...                       5   \n",
            "129516                                  4  ...                       4   \n",
            "\n",
            "        On-board service  Leg room service  Baggage handling  Checkin service  \\\n",
            "516                    4                 2                 5                4   \n",
            "656                    2                 5                 2                5   \n",
            "1071                   2                 5                 2                3   \n",
            "1224                   4                 3                 1                1   \n",
            "1589                   5                 5                 5                3   \n",
            "...                  ...               ...               ...              ...   \n",
            "128043                 4                 5                 4                3   \n",
            "128360                 3                 1                 2                4   \n",
            "128528                 4                 1                 5                5   \n",
            "128936                 1                 5                 5                5   \n",
            "129516                 3                 2                 5                3   \n",
            "\n",
            "        Inflight service  Cleanliness  Departure Delay in Minutes  \\\n",
            "516                    5            2                           9   \n",
            "656                    2            4                          51   \n",
            "1071                   2            5                         126   \n",
            "1224                   4            4                           0   \n",
            "1589                   5            5                           3   \n",
            "...                  ...          ...                         ...   \n",
            "128043                 4            3                         230   \n",
            "128360                 2            3                          55   \n",
            "128528                 3            5                           0   \n",
            "128936                 3            5                           0   \n",
            "129516                 5            4                          42   \n",
            "\n",
            "        Arrival Delay in Minutes             satisfaction  \n",
            "516                          NaN  neutral or dissatisfied  \n",
            "656                          NaN  neutral or dissatisfied  \n",
            "1071                         NaN  neutral or dissatisfied  \n",
            "1224                         NaN  neutral or dissatisfied  \n",
            "1589                         NaN                satisfied  \n",
            "...                          ...                      ...  \n",
            "128043                       NaN  neutral or dissatisfied  \n",
            "128360                       NaN  neutral or dissatisfied  \n",
            "128528                       NaN  neutral or dissatisfied  \n",
            "128936                       NaN                satisfied  \n",
            "129516                       NaN  neutral or dissatisfied  \n",
            "\n",
            "[393 rows x 25 columns]\n"
          ]
        }
      ],
      "metadata": {
        "datalore": {
          "node_id": "Xe4YknGPRozE4stztfcQdM",
          "type": "CODE",
          "hide_input_from_viewers": true,
          "hide_output_from_viewers": true
        },
        "id": "ly_z8LC72kpU",
        "outputId": "0420b891-2b3d-4a9c-ebea-969f35b3e85d",
        "colab": {
          "base_uri": "https://localhost:8080/"
        }
      }
    },
    {
      "cell_type": "markdown",
      "source": [
        "### Have to convert String entries to usable types for model training"
      ],
      "metadata": {
        "datalore": {
          "node_id": "LgFLFq7iEMnSKd74TMZU1j",
          "type": "MD",
          "hide_input_from_viewers": true,
          "hide_output_from_viewers": true
        },
        "id": "AHTpEyf-2kpU"
      }
    },
    {
      "cell_type": "code",
      "source": [
        "df.select_dtypes(include='object')"
      ],
      "execution_count": null,
      "outputs": [
        {
          "output_type": "execute_result",
          "data": {
            "text/plain": [
              "        Gender      Customer Type   Type of Travel     Class  \\\n",
              "0       Female     Loyal Customer  Business travel       Eco   \n",
              "1       Female     Loyal Customer  Business travel  Business   \n",
              "2         Male  disloyal Customer  Business travel       Eco   \n",
              "3         Male     Loyal Customer  Business travel  Business   \n",
              "4       Female     Loyal Customer  Business travel       Eco   \n",
              "...        ...                ...              ...       ...   \n",
              "129875  Female  disloyal Customer  Business travel       Eco   \n",
              "129876    Male     Loyal Customer  Business travel  Business   \n",
              "129877    Male  disloyal Customer  Business travel  Business   \n",
              "129878  Female  disloyal Customer  Business travel       Eco   \n",
              "129879    Male     Loyal Customer  Business travel  Business   \n",
              "\n",
              "                   satisfaction  \n",
              "0                     satisfied  \n",
              "1                     satisfied  \n",
              "2       neutral or dissatisfied  \n",
              "3                     satisfied  \n",
              "4                     satisfied  \n",
              "...                         ...  \n",
              "129875  neutral or dissatisfied  \n",
              "129876                satisfied  \n",
              "129877  neutral or dissatisfied  \n",
              "129878  neutral or dissatisfied  \n",
              "129879  neutral or dissatisfied  \n",
              "\n",
              "[129487 rows x 5 columns]"
            ],
            "text/html": [
              "\n",
              "\n",
              "  <div id=\"df-fab6954f-584e-4898-8712-a59f431f0795\">\n",
              "    <div class=\"colab-df-container\">\n",
              "      <div>\n",
              "<style scoped>\n",
              "    .dataframe tbody tr th:only-of-type {\n",
              "        vertical-align: middle;\n",
              "    }\n",
              "\n",
              "    .dataframe tbody tr th {\n",
              "        vertical-align: top;\n",
              "    }\n",
              "\n",
              "    .dataframe thead th {\n",
              "        text-align: right;\n",
              "    }\n",
              "</style>\n",
              "<table border=\"1\" class=\"dataframe\">\n",
              "  <thead>\n",
              "    <tr style=\"text-align: right;\">\n",
              "      <th></th>\n",
              "      <th>Gender</th>\n",
              "      <th>Customer Type</th>\n",
              "      <th>Type of Travel</th>\n",
              "      <th>Class</th>\n",
              "      <th>satisfaction</th>\n",
              "    </tr>\n",
              "  </thead>\n",
              "  <tbody>\n",
              "    <tr>\n",
              "      <th>0</th>\n",
              "      <td>Female</td>\n",
              "      <td>Loyal Customer</td>\n",
              "      <td>Business travel</td>\n",
              "      <td>Eco</td>\n",
              "      <td>satisfied</td>\n",
              "    </tr>\n",
              "    <tr>\n",
              "      <th>1</th>\n",
              "      <td>Female</td>\n",
              "      <td>Loyal Customer</td>\n",
              "      <td>Business travel</td>\n",
              "      <td>Business</td>\n",
              "      <td>satisfied</td>\n",
              "    </tr>\n",
              "    <tr>\n",
              "      <th>2</th>\n",
              "      <td>Male</td>\n",
              "      <td>disloyal Customer</td>\n",
              "      <td>Business travel</td>\n",
              "      <td>Eco</td>\n",
              "      <td>neutral or dissatisfied</td>\n",
              "    </tr>\n",
              "    <tr>\n",
              "      <th>3</th>\n",
              "      <td>Male</td>\n",
              "      <td>Loyal Customer</td>\n",
              "      <td>Business travel</td>\n",
              "      <td>Business</td>\n",
              "      <td>satisfied</td>\n",
              "    </tr>\n",
              "    <tr>\n",
              "      <th>4</th>\n",
              "      <td>Female</td>\n",
              "      <td>Loyal Customer</td>\n",
              "      <td>Business travel</td>\n",
              "      <td>Eco</td>\n",
              "      <td>satisfied</td>\n",
              "    </tr>\n",
              "    <tr>\n",
              "      <th>...</th>\n",
              "      <td>...</td>\n",
              "      <td>...</td>\n",
              "      <td>...</td>\n",
              "      <td>...</td>\n",
              "      <td>...</td>\n",
              "    </tr>\n",
              "    <tr>\n",
              "      <th>129875</th>\n",
              "      <td>Female</td>\n",
              "      <td>disloyal Customer</td>\n",
              "      <td>Business travel</td>\n",
              "      <td>Eco</td>\n",
              "      <td>neutral or dissatisfied</td>\n",
              "    </tr>\n",
              "    <tr>\n",
              "      <th>129876</th>\n",
              "      <td>Male</td>\n",
              "      <td>Loyal Customer</td>\n",
              "      <td>Business travel</td>\n",
              "      <td>Business</td>\n",
              "      <td>satisfied</td>\n",
              "    </tr>\n",
              "    <tr>\n",
              "      <th>129877</th>\n",
              "      <td>Male</td>\n",
              "      <td>disloyal Customer</td>\n",
              "      <td>Business travel</td>\n",
              "      <td>Business</td>\n",
              "      <td>neutral or dissatisfied</td>\n",
              "    </tr>\n",
              "    <tr>\n",
              "      <th>129878</th>\n",
              "      <td>Female</td>\n",
              "      <td>disloyal Customer</td>\n",
              "      <td>Business travel</td>\n",
              "      <td>Eco</td>\n",
              "      <td>neutral or dissatisfied</td>\n",
              "    </tr>\n",
              "    <tr>\n",
              "      <th>129879</th>\n",
              "      <td>Male</td>\n",
              "      <td>Loyal Customer</td>\n",
              "      <td>Business travel</td>\n",
              "      <td>Business</td>\n",
              "      <td>neutral or dissatisfied</td>\n",
              "    </tr>\n",
              "  </tbody>\n",
              "</table>\n",
              "<p>129487 rows × 5 columns</p>\n",
              "</div>\n",
              "      <button class=\"colab-df-convert\" onclick=\"convertToInteractive('df-fab6954f-584e-4898-8712-a59f431f0795')\"\n",
              "              title=\"Convert this dataframe to an interactive table.\"\n",
              "              style=\"display:none;\">\n",
              "\n",
              "  <svg xmlns=\"http://www.w3.org/2000/svg\" height=\"24px\"viewBox=\"0 0 24 24\"\n",
              "       width=\"24px\">\n",
              "    <path d=\"M0 0h24v24H0V0z\" fill=\"none\"/>\n",
              "    <path d=\"M18.56 5.44l.94 2.06.94-2.06 2.06-.94-2.06-.94-.94-2.06-.94 2.06-2.06.94zm-11 1L8.5 8.5l.94-2.06 2.06-.94-2.06-.94L8.5 2.5l-.94 2.06-2.06.94zm10 10l.94 2.06.94-2.06 2.06-.94-2.06-.94-.94-2.06-.94 2.06-2.06.94z\"/><path d=\"M17.41 7.96l-1.37-1.37c-.4-.4-.92-.59-1.43-.59-.52 0-1.04.2-1.43.59L10.3 9.45l-7.72 7.72c-.78.78-.78 2.05 0 2.83L4 21.41c.39.39.9.59 1.41.59.51 0 1.02-.2 1.41-.59l7.78-7.78 2.81-2.81c.8-.78.8-2.07 0-2.86zM5.41 20L4 18.59l7.72-7.72 1.47 1.35L5.41 20z\"/>\n",
              "  </svg>\n",
              "      </button>\n",
              "\n",
              "\n",
              "\n",
              "    <div id=\"df-a6285dee-91e1-4a55-b4f0-914084ebb5d6\">\n",
              "      <button class=\"colab-df-quickchart\" onclick=\"quickchart('df-a6285dee-91e1-4a55-b4f0-914084ebb5d6')\"\n",
              "              title=\"Suggest charts.\"\n",
              "              style=\"display:none;\">\n",
              "\n",
              "<svg xmlns=\"http://www.w3.org/2000/svg\" height=\"24px\"viewBox=\"0 0 24 24\"\n",
              "     width=\"24px\">\n",
              "    <g>\n",
              "        <path d=\"M19 3H5c-1.1 0-2 .9-2 2v14c0 1.1.9 2 2 2h14c1.1 0 2-.9 2-2V5c0-1.1-.9-2-2-2zM9 17H7v-7h2v7zm4 0h-2V7h2v10zm4 0h-2v-4h2v4z\"/>\n",
              "    </g>\n",
              "</svg>\n",
              "      </button>\n",
              "    </div>\n",
              "\n",
              "<style>\n",
              "  .colab-df-quickchart {\n",
              "    background-color: #E8F0FE;\n",
              "    border: none;\n",
              "    border-radius: 50%;\n",
              "    cursor: pointer;\n",
              "    display: none;\n",
              "    fill: #1967D2;\n",
              "    height: 32px;\n",
              "    padding: 0 0 0 0;\n",
              "    width: 32px;\n",
              "  }\n",
              "\n",
              "  .colab-df-quickchart:hover {\n",
              "    background-color: #E2EBFA;\n",
              "    box-shadow: 0px 1px 2px rgba(60, 64, 67, 0.3), 0px 1px 3px 1px rgba(60, 64, 67, 0.15);\n",
              "    fill: #174EA6;\n",
              "  }\n",
              "\n",
              "  [theme=dark] .colab-df-quickchart {\n",
              "    background-color: #3B4455;\n",
              "    fill: #D2E3FC;\n",
              "  }\n",
              "\n",
              "  [theme=dark] .colab-df-quickchart:hover {\n",
              "    background-color: #434B5C;\n",
              "    box-shadow: 0px 1px 3px 1px rgba(0, 0, 0, 0.15);\n",
              "    filter: drop-shadow(0px 1px 2px rgba(0, 0, 0, 0.3));\n",
              "    fill: #FFFFFF;\n",
              "  }\n",
              "</style>\n",
              "\n",
              "    <script>\n",
              "      async function quickchart(key) {\n",
              "        const containerElement = document.querySelector('#' + key);\n",
              "        const charts = await google.colab.kernel.invokeFunction(\n",
              "            'suggestCharts', [key], {});\n",
              "      }\n",
              "    </script>\n",
              "\n",
              "      <script>\n",
              "\n",
              "function displayQuickchartButton(domScope) {\n",
              "  let quickchartButtonEl =\n",
              "    domScope.querySelector('#df-a6285dee-91e1-4a55-b4f0-914084ebb5d6 button.colab-df-quickchart');\n",
              "  quickchartButtonEl.style.display =\n",
              "    google.colab.kernel.accessAllowed ? 'block' : 'none';\n",
              "}\n",
              "\n",
              "        displayQuickchartButton(document);\n",
              "      </script>\n",
              "      <style>\n",
              "    .colab-df-container {\n",
              "      display:flex;\n",
              "      flex-wrap:wrap;\n",
              "      gap: 12px;\n",
              "    }\n",
              "\n",
              "    .colab-df-convert {\n",
              "      background-color: #E8F0FE;\n",
              "      border: none;\n",
              "      border-radius: 50%;\n",
              "      cursor: pointer;\n",
              "      display: none;\n",
              "      fill: #1967D2;\n",
              "      height: 32px;\n",
              "      padding: 0 0 0 0;\n",
              "      width: 32px;\n",
              "    }\n",
              "\n",
              "    .colab-df-convert:hover {\n",
              "      background-color: #E2EBFA;\n",
              "      box-shadow: 0px 1px 2px rgba(60, 64, 67, 0.3), 0px 1px 3px 1px rgba(60, 64, 67, 0.15);\n",
              "      fill: #174EA6;\n",
              "    }\n",
              "\n",
              "    [theme=dark] .colab-df-convert {\n",
              "      background-color: #3B4455;\n",
              "      fill: #D2E3FC;\n",
              "    }\n",
              "\n",
              "    [theme=dark] .colab-df-convert:hover {\n",
              "      background-color: #434B5C;\n",
              "      box-shadow: 0px 1px 3px 1px rgba(0, 0, 0, 0.15);\n",
              "      filter: drop-shadow(0px 1px 2px rgba(0, 0, 0, 0.3));\n",
              "      fill: #FFFFFF;\n",
              "    }\n",
              "  </style>\n",
              "\n",
              "      <script>\n",
              "        const buttonEl =\n",
              "          document.querySelector('#df-fab6954f-584e-4898-8712-a59f431f0795 button.colab-df-convert');\n",
              "        buttonEl.style.display =\n",
              "          google.colab.kernel.accessAllowed ? 'block' : 'none';\n",
              "\n",
              "        async function convertToInteractive(key) {\n",
              "          const element = document.querySelector('#df-fab6954f-584e-4898-8712-a59f431f0795');\n",
              "          const dataTable =\n",
              "            await google.colab.kernel.invokeFunction('convertToInteractive',\n",
              "                                                     [key], {});\n",
              "          if (!dataTable) return;\n",
              "\n",
              "          const docLinkHtml = 'Like what you see? Visit the ' +\n",
              "            '<a target=\"_blank\" href=https://colab.research.google.com/notebooks/data_table.ipynb>data table notebook</a>'\n",
              "            + ' to learn more about interactive tables.';\n",
              "          element.innerHTML = '';\n",
              "          dataTable['output_type'] = 'display_data';\n",
              "          await google.colab.output.renderOutput(dataTable, element);\n",
              "          const docLink = document.createElement('div');\n",
              "          docLink.innerHTML = docLinkHtml;\n",
              "          element.appendChild(docLink);\n",
              "        }\n",
              "      </script>\n",
              "    </div>\n",
              "  </div>\n"
            ]
          },
          "metadata": {},
          "execution_count": 7
        }
      ],
      "metadata": {
        "datalore": {
          "node_id": "ycEynUDoNGD7cCeG5rNgIV",
          "type": "CODE",
          "hide_input_from_viewers": true,
          "hide_output_from_viewers": true
        },
        "id": "otg_wMNf2kpU",
        "outputId": "32ad4911-65ed-44b4-8aff-eb5ca1750452",
        "colab": {
          "base_uri": "https://localhost:8080/",
          "height": 424
        }
      }
    },
    {
      "cell_type": "code",
      "source": [
        "df = pd.get_dummies(df, columns=['Gender'], drop_first=True)\n",
        "df = pd.get_dummies(df, columns=['Customer Type'], drop_first=True)\n",
        "df = pd.get_dummies(df, columns=['Type of Travel'], drop_first=True)"
      ],
      "execution_count": null,
      "outputs": [],
      "metadata": {
        "datalore": {
          "node_id": "OJwJ6yTXynJXo8Rw9HMfDP",
          "type": "CODE",
          "hide_input_from_viewers": true,
          "hide_output_from_viewers": true
        },
        "id": "eHeLOz6Z2kpU"
      }
    },
    {
      "cell_type": "code",
      "source": [
        "class_mapping = {'Eco': 0, 'Eco Plus': 1, 'Business': 2}\n",
        "df['Class'] = df['Class'].map(class_mapping)\n",
        "satisfaction_mapping = {'neutral or dissatisfied': 0, 'satisfied': 1}\n",
        "df['satisfaction'] = df['satisfaction'].map(satisfaction_mapping)"
      ],
      "execution_count": null,
      "outputs": [],
      "metadata": {
        "datalore": {
          "node_id": "43kITBjKbwajosOPYXqbPg",
          "type": "CODE",
          "hide_input_from_viewers": true,
          "hide_output_from_viewers": true
        },
        "id": "67K17lqg2kpV"
      }
    },
    {
      "cell_type": "code",
      "source": [
        "df.head()"
      ],
      "execution_count": null,
      "outputs": [
        {
          "output_type": "execute_result",
          "data": {
            "text/plain": [
              "   Unnamed: 0     id  Age  Class  Flight Distance  Inflight wifi service  \\\n",
              "0           0  19556   52      0              160                      5   \n",
              "1           1  90035   36      2             2863                      1   \n",
              "2           2  12360   20      0              192                      2   \n",
              "3           3  77959   44      2             3377                      0   \n",
              "4           4  36875   49      0             1182                      2   \n",
              "\n",
              "   Departure/Arrival time convenient  Ease of Online booking  Gate location  \\\n",
              "0                                  4                       3              4   \n",
              "1                                  1                       3              1   \n",
              "2                                  0                       2              4   \n",
              "3                                  0                       0              2   \n",
              "4                                  3                       4              3   \n",
              "\n",
              "   Food and drink  ...  Baggage handling  Checkin service  Inflight service  \\\n",
              "0               3  ...                 5                2                 5   \n",
              "1               5  ...                 4                3                 4   \n",
              "2               2  ...                 3                2                 2   \n",
              "3               3  ...                 1                3                 1   \n",
              "4               4  ...                 2                4                 2   \n",
              "\n",
              "   Cleanliness  Departure Delay in Minutes  Arrival Delay in Minutes  \\\n",
              "0            5                          50                      44.0   \n",
              "1            5                           0                       0.0   \n",
              "2            2                           0                       0.0   \n",
              "3            4                           0                       6.0   \n",
              "4            4                           0                      20.0   \n",
              "\n",
              "   satisfaction  Gender_Male  Customer Type_disloyal Customer  \\\n",
              "0             1            0                                0   \n",
              "1             1            0                                0   \n",
              "2             0            1                                1   \n",
              "3             1            1                                0   \n",
              "4             1            0                                0   \n",
              "\n",
              "   Type of Travel_Personal Travel  \n",
              "0                               0  \n",
              "1                               0  \n",
              "2                               0  \n",
              "3                               0  \n",
              "4                               0  \n",
              "\n",
              "[5 rows x 25 columns]"
            ],
            "text/html": [
              "\n",
              "\n",
              "  <div id=\"df-cfb1174a-3e38-42d7-8c9f-3f71f1049260\">\n",
              "    <div class=\"colab-df-container\">\n",
              "      <div>\n",
              "<style scoped>\n",
              "    .dataframe tbody tr th:only-of-type {\n",
              "        vertical-align: middle;\n",
              "    }\n",
              "\n",
              "    .dataframe tbody tr th {\n",
              "        vertical-align: top;\n",
              "    }\n",
              "\n",
              "    .dataframe thead th {\n",
              "        text-align: right;\n",
              "    }\n",
              "</style>\n",
              "<table border=\"1\" class=\"dataframe\">\n",
              "  <thead>\n",
              "    <tr style=\"text-align: right;\">\n",
              "      <th></th>\n",
              "      <th>Unnamed: 0</th>\n",
              "      <th>id</th>\n",
              "      <th>Age</th>\n",
              "      <th>Class</th>\n",
              "      <th>Flight Distance</th>\n",
              "      <th>Inflight wifi service</th>\n",
              "      <th>Departure/Arrival time convenient</th>\n",
              "      <th>Ease of Online booking</th>\n",
              "      <th>Gate location</th>\n",
              "      <th>Food and drink</th>\n",
              "      <th>...</th>\n",
              "      <th>Baggage handling</th>\n",
              "      <th>Checkin service</th>\n",
              "      <th>Inflight service</th>\n",
              "      <th>Cleanliness</th>\n",
              "      <th>Departure Delay in Minutes</th>\n",
              "      <th>Arrival Delay in Minutes</th>\n",
              "      <th>satisfaction</th>\n",
              "      <th>Gender_Male</th>\n",
              "      <th>Customer Type_disloyal Customer</th>\n",
              "      <th>Type of Travel_Personal Travel</th>\n",
              "    </tr>\n",
              "  </thead>\n",
              "  <tbody>\n",
              "    <tr>\n",
              "      <th>0</th>\n",
              "      <td>0</td>\n",
              "      <td>19556</td>\n",
              "      <td>52</td>\n",
              "      <td>0</td>\n",
              "      <td>160</td>\n",
              "      <td>5</td>\n",
              "      <td>4</td>\n",
              "      <td>3</td>\n",
              "      <td>4</td>\n",
              "      <td>3</td>\n",
              "      <td>...</td>\n",
              "      <td>5</td>\n",
              "      <td>2</td>\n",
              "      <td>5</td>\n",
              "      <td>5</td>\n",
              "      <td>50</td>\n",
              "      <td>44.0</td>\n",
              "      <td>1</td>\n",
              "      <td>0</td>\n",
              "      <td>0</td>\n",
              "      <td>0</td>\n",
              "    </tr>\n",
              "    <tr>\n",
              "      <th>1</th>\n",
              "      <td>1</td>\n",
              "      <td>90035</td>\n",
              "      <td>36</td>\n",
              "      <td>2</td>\n",
              "      <td>2863</td>\n",
              "      <td>1</td>\n",
              "      <td>1</td>\n",
              "      <td>3</td>\n",
              "      <td>1</td>\n",
              "      <td>5</td>\n",
              "      <td>...</td>\n",
              "      <td>4</td>\n",
              "      <td>3</td>\n",
              "      <td>4</td>\n",
              "      <td>5</td>\n",
              "      <td>0</td>\n",
              "      <td>0.0</td>\n",
              "      <td>1</td>\n",
              "      <td>0</td>\n",
              "      <td>0</td>\n",
              "      <td>0</td>\n",
              "    </tr>\n",
              "    <tr>\n",
              "      <th>2</th>\n",
              "      <td>2</td>\n",
              "      <td>12360</td>\n",
              "      <td>20</td>\n",
              "      <td>0</td>\n",
              "      <td>192</td>\n",
              "      <td>2</td>\n",
              "      <td>0</td>\n",
              "      <td>2</td>\n",
              "      <td>4</td>\n",
              "      <td>2</td>\n",
              "      <td>...</td>\n",
              "      <td>3</td>\n",
              "      <td>2</td>\n",
              "      <td>2</td>\n",
              "      <td>2</td>\n",
              "      <td>0</td>\n",
              "      <td>0.0</td>\n",
              "      <td>0</td>\n",
              "      <td>1</td>\n",
              "      <td>1</td>\n",
              "      <td>0</td>\n",
              "    </tr>\n",
              "    <tr>\n",
              "      <th>3</th>\n",
              "      <td>3</td>\n",
              "      <td>77959</td>\n",
              "      <td>44</td>\n",
              "      <td>2</td>\n",
              "      <td>3377</td>\n",
              "      <td>0</td>\n",
              "      <td>0</td>\n",
              "      <td>0</td>\n",
              "      <td>2</td>\n",
              "      <td>3</td>\n",
              "      <td>...</td>\n",
              "      <td>1</td>\n",
              "      <td>3</td>\n",
              "      <td>1</td>\n",
              "      <td>4</td>\n",
              "      <td>0</td>\n",
              "      <td>6.0</td>\n",
              "      <td>1</td>\n",
              "      <td>1</td>\n",
              "      <td>0</td>\n",
              "      <td>0</td>\n",
              "    </tr>\n",
              "    <tr>\n",
              "      <th>4</th>\n",
              "      <td>4</td>\n",
              "      <td>36875</td>\n",
              "      <td>49</td>\n",
              "      <td>0</td>\n",
              "      <td>1182</td>\n",
              "      <td>2</td>\n",
              "      <td>3</td>\n",
              "      <td>4</td>\n",
              "      <td>3</td>\n",
              "      <td>4</td>\n",
              "      <td>...</td>\n",
              "      <td>2</td>\n",
              "      <td>4</td>\n",
              "      <td>2</td>\n",
              "      <td>4</td>\n",
              "      <td>0</td>\n",
              "      <td>20.0</td>\n",
              "      <td>1</td>\n",
              "      <td>0</td>\n",
              "      <td>0</td>\n",
              "      <td>0</td>\n",
              "    </tr>\n",
              "  </tbody>\n",
              "</table>\n",
              "<p>5 rows × 25 columns</p>\n",
              "</div>\n",
              "      <button class=\"colab-df-convert\" onclick=\"convertToInteractive('df-cfb1174a-3e38-42d7-8c9f-3f71f1049260')\"\n",
              "              title=\"Convert this dataframe to an interactive table.\"\n",
              "              style=\"display:none;\">\n",
              "\n",
              "  <svg xmlns=\"http://www.w3.org/2000/svg\" height=\"24px\"viewBox=\"0 0 24 24\"\n",
              "       width=\"24px\">\n",
              "    <path d=\"M0 0h24v24H0V0z\" fill=\"none\"/>\n",
              "    <path d=\"M18.56 5.44l.94 2.06.94-2.06 2.06-.94-2.06-.94-.94-2.06-.94 2.06-2.06.94zm-11 1L8.5 8.5l.94-2.06 2.06-.94-2.06-.94L8.5 2.5l-.94 2.06-2.06.94zm10 10l.94 2.06.94-2.06 2.06-.94-2.06-.94-.94-2.06-.94 2.06-2.06.94z\"/><path d=\"M17.41 7.96l-1.37-1.37c-.4-.4-.92-.59-1.43-.59-.52 0-1.04.2-1.43.59L10.3 9.45l-7.72 7.72c-.78.78-.78 2.05 0 2.83L4 21.41c.39.39.9.59 1.41.59.51 0 1.02-.2 1.41-.59l7.78-7.78 2.81-2.81c.8-.78.8-2.07 0-2.86zM5.41 20L4 18.59l7.72-7.72 1.47 1.35L5.41 20z\"/>\n",
              "  </svg>\n",
              "      </button>\n",
              "\n",
              "\n",
              "\n",
              "    <div id=\"df-e5956b21-a6e5-412f-a111-3edc9305a32c\">\n",
              "      <button class=\"colab-df-quickchart\" onclick=\"quickchart('df-e5956b21-a6e5-412f-a111-3edc9305a32c')\"\n",
              "              title=\"Suggest charts.\"\n",
              "              style=\"display:none;\">\n",
              "\n",
              "<svg xmlns=\"http://www.w3.org/2000/svg\" height=\"24px\"viewBox=\"0 0 24 24\"\n",
              "     width=\"24px\">\n",
              "    <g>\n",
              "        <path d=\"M19 3H5c-1.1 0-2 .9-2 2v14c0 1.1.9 2 2 2h14c1.1 0 2-.9 2-2V5c0-1.1-.9-2-2-2zM9 17H7v-7h2v7zm4 0h-2V7h2v10zm4 0h-2v-4h2v4z\"/>\n",
              "    </g>\n",
              "</svg>\n",
              "      </button>\n",
              "    </div>\n",
              "\n",
              "<style>\n",
              "  .colab-df-quickchart {\n",
              "    background-color: #E8F0FE;\n",
              "    border: none;\n",
              "    border-radius: 50%;\n",
              "    cursor: pointer;\n",
              "    display: none;\n",
              "    fill: #1967D2;\n",
              "    height: 32px;\n",
              "    padding: 0 0 0 0;\n",
              "    width: 32px;\n",
              "  }\n",
              "\n",
              "  .colab-df-quickchart:hover {\n",
              "    background-color: #E2EBFA;\n",
              "    box-shadow: 0px 1px 2px rgba(60, 64, 67, 0.3), 0px 1px 3px 1px rgba(60, 64, 67, 0.15);\n",
              "    fill: #174EA6;\n",
              "  }\n",
              "\n",
              "  [theme=dark] .colab-df-quickchart {\n",
              "    background-color: #3B4455;\n",
              "    fill: #D2E3FC;\n",
              "  }\n",
              "\n",
              "  [theme=dark] .colab-df-quickchart:hover {\n",
              "    background-color: #434B5C;\n",
              "    box-shadow: 0px 1px 3px 1px rgba(0, 0, 0, 0.15);\n",
              "    filter: drop-shadow(0px 1px 2px rgba(0, 0, 0, 0.3));\n",
              "    fill: #FFFFFF;\n",
              "  }\n",
              "</style>\n",
              "\n",
              "    <script>\n",
              "      async function quickchart(key) {\n",
              "        const containerElement = document.querySelector('#' + key);\n",
              "        const charts = await google.colab.kernel.invokeFunction(\n",
              "            'suggestCharts', [key], {});\n",
              "      }\n",
              "    </script>\n",
              "\n",
              "      <script>\n",
              "\n",
              "function displayQuickchartButton(domScope) {\n",
              "  let quickchartButtonEl =\n",
              "    domScope.querySelector('#df-e5956b21-a6e5-412f-a111-3edc9305a32c button.colab-df-quickchart');\n",
              "  quickchartButtonEl.style.display =\n",
              "    google.colab.kernel.accessAllowed ? 'block' : 'none';\n",
              "}\n",
              "\n",
              "        displayQuickchartButton(document);\n",
              "      </script>\n",
              "      <style>\n",
              "    .colab-df-container {\n",
              "      display:flex;\n",
              "      flex-wrap:wrap;\n",
              "      gap: 12px;\n",
              "    }\n",
              "\n",
              "    .colab-df-convert {\n",
              "      background-color: #E8F0FE;\n",
              "      border: none;\n",
              "      border-radius: 50%;\n",
              "      cursor: pointer;\n",
              "      display: none;\n",
              "      fill: #1967D2;\n",
              "      height: 32px;\n",
              "      padding: 0 0 0 0;\n",
              "      width: 32px;\n",
              "    }\n",
              "\n",
              "    .colab-df-convert:hover {\n",
              "      background-color: #E2EBFA;\n",
              "      box-shadow: 0px 1px 2px rgba(60, 64, 67, 0.3), 0px 1px 3px 1px rgba(60, 64, 67, 0.15);\n",
              "      fill: #174EA6;\n",
              "    }\n",
              "\n",
              "    [theme=dark] .colab-df-convert {\n",
              "      background-color: #3B4455;\n",
              "      fill: #D2E3FC;\n",
              "    }\n",
              "\n",
              "    [theme=dark] .colab-df-convert:hover {\n",
              "      background-color: #434B5C;\n",
              "      box-shadow: 0px 1px 3px 1px rgba(0, 0, 0, 0.15);\n",
              "      filter: drop-shadow(0px 1px 2px rgba(0, 0, 0, 0.3));\n",
              "      fill: #FFFFFF;\n",
              "    }\n",
              "  </style>\n",
              "\n",
              "      <script>\n",
              "        const buttonEl =\n",
              "          document.querySelector('#df-cfb1174a-3e38-42d7-8c9f-3f71f1049260 button.colab-df-convert');\n",
              "        buttonEl.style.display =\n",
              "          google.colab.kernel.accessAllowed ? 'block' : 'none';\n",
              "\n",
              "        async function convertToInteractive(key) {\n",
              "          const element = document.querySelector('#df-cfb1174a-3e38-42d7-8c9f-3f71f1049260');\n",
              "          const dataTable =\n",
              "            await google.colab.kernel.invokeFunction('convertToInteractive',\n",
              "                                                     [key], {});\n",
              "          if (!dataTable) return;\n",
              "\n",
              "          const docLinkHtml = 'Like what you see? Visit the ' +\n",
              "            '<a target=\"_blank\" href=https://colab.research.google.com/notebooks/data_table.ipynb>data table notebook</a>'\n",
              "            + ' to learn more about interactive tables.';\n",
              "          element.innerHTML = '';\n",
              "          dataTable['output_type'] = 'display_data';\n",
              "          await google.colab.output.renderOutput(dataTable, element);\n",
              "          const docLink = document.createElement('div');\n",
              "          docLink.innerHTML = docLinkHtml;\n",
              "          element.appendChild(docLink);\n",
              "        }\n",
              "      </script>\n",
              "    </div>\n",
              "  </div>\n"
            ]
          },
          "metadata": {},
          "execution_count": 10
        }
      ],
      "metadata": {
        "datalore": {
          "node_id": "0eiL3CJWuGpMDmejKze5CS",
          "type": "CODE",
          "hide_input_from_viewers": true,
          "hide_output_from_viewers": true
        },
        "id": "Ik5SxiNf2kpV",
        "outputId": "34bac5df-7b03-4f87-aad2-1bf62c5bed27",
        "colab": {
          "base_uri": "https://localhost:8080/",
          "height": 352
        }
      }
    },
    {
      "cell_type": "markdown",
      "source": [
        "### Create two separate dfs for analysis input set and output. Inputs predict the output which is satisfaction"
      ],
      "metadata": {
        "datalore": {
          "node_id": "6geDuhBHBADoSn4mMmC0uS",
          "type": "MD",
          "hide_input_from_viewers": true,
          "hide_output_from_viewers": true
        },
        "id": "4AytvIrB2kpV"
      }
    },
    {
      "cell_type": "code",
      "source": [
        "X = df.drop(columns = ['satisfaction'])\n",
        "y = df['satisfaction']"
      ],
      "execution_count": null,
      "outputs": [],
      "metadata": {
        "datalore": {
          "node_id": "pOFbbxtp0hOrQzghJdl4OB",
          "type": "CODE",
          "hide_input_from_viewers": true,
          "hide_output_from_viewers": true
        },
        "id": "7IpXKhRz2kpV"
      }
    },
    {
      "cell_type": "markdown",
      "source": [
        "### Create training and test sets and model based on Logistic Regression Sklearn"
      ],
      "metadata": {
        "datalore": {
          "node_id": "LQvJAQLmIcAXhe96CbCRtI",
          "type": "MD",
          "hide_input_from_viewers": true,
          "hide_output_from_viewers": true
        },
        "id": "cG6GLAkZ2kpV"
      }
    },
    {
      "cell_type": "code",
      "source": [
        "X_train, X_test, y_train, y_test = train_test_split(X, y, test_size=0.2, random_state=123)"
      ],
      "execution_count": null,
      "outputs": [],
      "metadata": {
        "datalore": {
          "node_id": "U9TM53317Ib8QDLsCHhdi2",
          "type": "CODE",
          "hide_input_from_viewers": true,
          "hide_output_from_viewers": true
        },
        "id": "rshFGQ0t2kpV"
      }
    },
    {
      "cell_type": "code",
      "source": [
        "model1 = LogisticRegression(max_iter=1000)\n",
        "model1.fit(X_train, y_train)\n",
        "y_pred = model1.predict(X_test)"
      ],
      "execution_count": null,
      "outputs": [],
      "metadata": {
        "datalore": {
          "node_id": "9fo443d9AcwM1To974iNSV",
          "type": "CODE",
          "hide_input_from_viewers": true,
          "hide_output_from_viewers": true
        },
        "id": "K1rDWWVx2kpV"
      }
    },
    {
      "cell_type": "code",
      "source": [
        "accuracy1 = accuracy_score(y_test, y_pred)\n",
        "print(\"Accuracy:\", accuracy1)"
      ],
      "execution_count": null,
      "outputs": [
        {
          "output_type": "stream",
          "name": "stdout",
          "text": [
            "Accuracy: 0.7751563827322573\n"
          ]
        }
      ],
      "metadata": {
        "datalore": {
          "node_id": "kgVFM9CKejtD7sdOeCB6IA",
          "type": "CODE",
          "hide_input_from_viewers": true,
          "hide_output_from_viewers": true
        },
        "id": "R1H9_pvY2kpW",
        "outputId": "0c2d40ff-a42b-45e6-ceaa-8a4f764789a9",
        "colab": {
          "base_uri": "https://localhost:8080/"
        }
      }
    },
    {
      "cell_type": "markdown",
      "source": [
        "### GLM analysis using statsmodels"
      ],
      "metadata": {
        "datalore": {
          "node_id": "IruyXCakWWNaZdpbymGCCz",
          "type": "MD",
          "hide_input_from_viewers": true,
          "hide_output_from_viewers": true
        },
        "id": "q3_432H82kpW"
      }
    },
    {
      "cell_type": "code",
      "source": [
        "X = sm.add_constant(X)"
      ],
      "execution_count": null,
      "outputs": [],
      "metadata": {
        "datalore": {
          "node_id": "2xOBCxYBnedPbKUdnyrOzM",
          "type": "CODE",
          "hide_input_from_viewers": true,
          "hide_output_from_viewers": true
        },
        "id": "TPxuKqq02kpW"
      }
    },
    {
      "cell_type": "code",
      "source": [
        "model2 = sm.GLM(y, X, family=sm.families.Gaussian())\n"
      ],
      "execution_count": null,
      "outputs": [],
      "metadata": {
        "datalore": {
          "node_id": "EmwQcrBV2FXBUrzfF23eum",
          "type": "CODE",
          "hide_input_from_viewers": true,
          "hide_output_from_viewers": true
        },
        "id": "pk_eTgPs2kpW"
      }
    },
    {
      "cell_type": "code",
      "source": [
        "result = model2.fit()"
      ],
      "execution_count": null,
      "outputs": [],
      "metadata": {
        "datalore": {
          "node_id": "crY63Sl6QUiIpsOL2dKtyY",
          "type": "CODE",
          "hide_input_from_viewers": true,
          "hide_output_from_viewers": true
        },
        "id": "K7Tj0VyF2kpW"
      }
    },
    {
      "cell_type": "code",
      "source": [
        "print(result.summary())"
      ],
      "execution_count": null,
      "outputs": [
        {
          "output_type": "stream",
          "name": "stdout",
          "text": [
            "                 Generalized Linear Model Regression Results                  \n",
            "==============================================================================\n",
            "Dep. Variable:           satisfaction   No. Observations:               129487\n",
            "Model:                            GLM   Df Residuals:                   129462\n",
            "Model Family:                Gaussian   Df Model:                           24\n",
            "Link Function:               identity   Scale:                         0.11023\n",
            "Method:                          IRLS   Log-Likelihood:                -40951.\n",
            "Date:                Wed, 26 Jul 2023   Deviance:                       14271.\n",
            "Time:                        20:19:49   Pearson chi2:                 1.43e+04\n",
            "No. Iterations:                     3   Pseudo R-squ. (CS):             0.7075\n",
            "Covariance Type:            nonrobust                                         \n",
            "=====================================================================================================\n",
            "                                        coef    std err          z      P>|z|      [0.025      0.975]\n",
            "-----------------------------------------------------------------------------------------------------\n",
            "const                                -0.3079      0.007    -47.292      0.000      -0.321      -0.295\n",
            "Unnamed: 0                        -6.936e-08   2.96e-08     -2.346      0.019   -1.27e-07   -1.14e-08\n",
            "id                                -4.459e-07   2.51e-08    -17.749      0.000   -4.95e-07   -3.97e-07\n",
            "Age                                  -0.0009   6.58e-05    -14.382      0.000      -0.001      -0.001\n",
            "Class                                 0.0605      0.001     44.917      0.000       0.058       0.063\n",
            "Flight Distance                    5.259e-06   1.07e-06      4.896      0.000    3.15e-06    7.36e-06\n",
            "Inflight wifi service                 0.0660      0.001     60.772      0.000       0.064       0.068\n",
            "Departure/Arrival time convenient    -0.0175      0.001    -22.429      0.000      -0.019      -0.016\n",
            "Ease of Online booking               -0.0399      0.001    -36.918      0.000      -0.042      -0.038\n",
            "Gate location                         0.0038      0.001      4.268      0.000       0.002       0.006\n",
            "Food and drink                       -0.0044      0.001     -4.327      0.000      -0.006      -0.002\n",
            "Online boarding                       0.0808      0.001     83.657      0.000       0.079       0.083\n",
            "Seat comfort                          0.0092      0.001      8.461      0.000       0.007       0.011\n",
            "Inflight entertainment                0.0134      0.001      9.772      0.000       0.011       0.016\n",
            "On-board service                      0.0357      0.001     37.400      0.000       0.034       0.038\n",
            "Leg room service                      0.0333      0.001     41.401      0.000       0.032       0.035\n",
            "Baggage handling                      0.0178      0.001     16.468      0.000       0.016       0.020\n",
            "Checkin service                       0.0383      0.001     47.504      0.000       0.037       0.040\n",
            "Inflight service                      0.0158      0.001     13.932      0.000       0.014       0.018\n",
            "Cleanliness                           0.0264      0.001     22.164      0.000       0.024       0.029\n",
            "Departure Delay in Minutes            0.0006   9.33e-05      6.535      0.000       0.000       0.001\n",
            "Arrival Delay in Minutes             -0.0011   9.21e-05    -12.222      0.000      -0.001      -0.001\n",
            "Gender_Male                           0.0102      0.002      5.494      0.000       0.007       0.014\n",
            "Customer Type_disloyal Customer      -0.3035      0.003   -101.325      0.000      -0.309      -0.298\n",
            "Type of Travel_Personal Travel       -0.3843      0.003   -133.503      0.000      -0.390      -0.379\n",
            "=====================================================================================================\n"
          ]
        }
      ],
      "metadata": {
        "datalore": {
          "node_id": "bjRtDbaZ7khWjtWD8nZZ7f",
          "type": "CODE",
          "hide_input_from_viewers": true,
          "hide_output_from_viewers": true
        },
        "id": "Sz15kA_92kpW",
        "outputId": "713c7012-27b8-4dd4-80c5-d08edd3558db",
        "colab": {
          "base_uri": "https://localhost:8080/"
        }
      }
    },
    {
      "cell_type": "code",
      "source": [],
      "execution_count": null,
      "outputs": [],
      "metadata": {
        "datalore": {
          "node_id": "i9BBJNqjIZYqDKcSUe020H",
          "type": "CODE",
          "hide_input_from_viewers": true,
          "hide_output_from_viewers": true
        },
        "id": "-toTexi82kpW"
      }
    }
  ],
  "metadata": {
    "kernelspec": {
      "display_name": "Python",
      "language": "python",
      "name": "python"
    },
    "datalore": {
      "computation_mode": "JUPYTER",
      "package_manager": "pip",
      "base_environment": "default",
      "packages": [],
      "report_row_ids": [],
      "version": 3
    },
    "colab": {
      "provenance": [],
      "include_colab_link": true
    }
  },
  "nbformat": 4,
  "nbformat_minor": 0
}